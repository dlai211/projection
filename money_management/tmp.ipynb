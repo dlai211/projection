{
 "cells": [
  {
   "cell_type": "code",
   "execution_count": null,
   "id": "6499b7c9",
   "metadata": {},
   "outputs": [
    {
     "ename": "",
     "evalue": "",
     "output_type": "error",
     "traceback": [
      "\u001b[1;31mRunning cells with 'base (Python 3.12.3)' requires the ipykernel package.\n",
      "\u001b[1;31mInstall 'ipykernel' into the Python environment. \n",
      "\u001b[1;31mCommand: 'conda install -n base ipykernel --update-deps --force-reinstall'"
     ]
    }
   ],
   "source": [
    "import json\n",
    "import pandas as pd\n",
    "import plotly.graph_objects as go\n",
    "\n",
    "# Load JSON config\n",
    "with open(\"expenses.json\", \"r\") as f:\n",
    "    data = json.load(f)\n",
    "\n",
    "df = pd.DataFrame(data)\n",
    "\n",
    "# Ensure date is datetime\n",
    "df[\"date\"] = pd.to_datetime(df[\"date\"])\n",
    "\n",
    "# Pivot: rows = dates, cols = items, values = sum of prices\n",
    "pivot = df.pivot_table(index=\"date\", columns=\"item\", values=\"price\", aggfunc=\"sum\", fill_value=0)\n",
    "\n",
    "# Build stacked bar traces\n",
    "traces = []\n",
    "for item in pivot.columns:\n",
    "    traces.append(\n",
    "        go.Bar(\n",
    "            name=item,\n",
    "            x=pivot.index,\n",
    "            y=pivot[item],\n",
    "            text=[f\"{v:.2f}\" if v > 0 else \"\" for v in pivot[item]],\n",
    "            textposition=\"inside\",\n",
    "            hovertemplate=f\"Item: {item}<br>Date: %{x}<br>Price: $%{{y:.2f}}<extra></extra>\"\n",
    "        )\n",
    "    )\n",
    "\n",
    "# Daily totals for annotation\n",
    "day_totals = pivot.sum(axis=1)\n",
    "\n",
    "total_trace = go.Scatter(\n",
    "    x=pivot.index,\n",
    "    y=day_totals,\n",
    "    mode=\"text\",\n",
    "    text=[f\"${t:.2f}\" for t in day_totals],\n",
    "    textposition=\"top center\",\n",
    "    showlegend=False,\n",
    "    hoverinfo=\"skip\"\n",
    ")\n",
    "\n",
    "# Layout\n",
    "layout = go.Layout(\n",
    "    title=\"Vacation Spending\",\n",
    "    barmode=\"stack\",\n",
    "    xaxis=dict(title=\"Date\"),\n",
    "    yaxis=dict(title=\"Price (USD)\"),\n",
    "    bargap=0.2\n",
    ")\n",
    "\n",
    "fig = go.Figure(data=traces + [total_trace], layout=layout)\n",
    "fig.show()\n",
    "# Save to HTML\n",
    "# fig.write_html(\"expenses_plot.html\", include_plotlyjs=\"cdn\")\n",
    "\n",
    "# print(\"Saved plot to expenses_plot.html\")\n"
   ]
  },
  {
   "cell_type": "code",
   "execution_count": null,
   "id": "53a4bc66",
   "metadata": {},
   "outputs": [],
   "source": []
  }
 ],
 "metadata": {
  "kernelspec": {
   "display_name": "base",
   "language": "python",
   "name": "python3"
  },
  "language_info": {
   "name": "python",
   "version": "3.12.3"
  }
 },
 "nbformat": 4,
 "nbformat_minor": 5
}
